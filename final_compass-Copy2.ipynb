{
 "cells": [
  {
   "cell_type": "code",
   "execution_count": 2,
   "id": "3e5b3530",
   "metadata": {
    "tags": [
     "hide_code"
    ]
   },
   "outputs": [],
   "source": [
    "from geopy.geocoders import ArcGIS\n",
    "import pandas as pd\n",
    "from pyngrok import ngrok\n",
    "df = pd.read_csv('combined_new.csv')\n",
    "nom = ArcGIS()"
   ]
  },
  {
   "cell_type": "code",
   "execution_count": 3,
   "id": "52e979c9",
   "metadata": {
    "hide_input": true
   },
   "outputs": [],
   "source": [
    "from math import radians, sin, cos, sqrt, atan2\n",
    "from ipywidgets import widgets, interactive\n",
    "from IPython.display import display, clear_output\n",
    "import folium\n",
    "def calculate_distance(lat1, lon1, lat2, lon2):\n",
    "    # Convert coordinates from degrees to radians\n",
    "    lat1 = radians(lat1)\n",
    "    lon1 = radians(lon1)\n",
    "    lat2 = radians(lat2)\n",
    "    lon2 = radians(lon2)\n",
    "\n",
    "    # Haversine formula\n",
    "    dlon = lon2 - lon1\n",
    "    dlat = lat2 - lat1\n",
    "    a = sin(dlat / 2)**2 + cos(lat1) * cos(lat2) * sin(dlon / 2)**2\n",
    "    c = 2 * atan2(sqrt(a), sqrt(1 - a))\n",
    "    distance = 6371 * c  # Radius of the Earth in kilometers\n",
    "    return distance"
   ]
  },
  {
   "cell_type": "code",
   "execution_count": 4,
   "id": "d23639c4",
   "metadata": {},
   "outputs": [],
   "source": [
    "upshift = pd.read_csv('upshift_locs.csv')"
   ]
  },
  {
   "cell_type": "code",
   "execution_count": 5,
   "id": "270980e8",
   "metadata": {
    "scrolled": true
   },
   "outputs": [],
   "source": [
    "upshift = upshift.rename(columns={'Office Name': 'Customer', 'Address': 'full_addy'})"
   ]
  },
  {
   "cell_type": "code",
   "execution_count": 6,
   "id": "12b5063d",
   "metadata": {},
   "outputs": [],
   "source": [
    "for _, office_row in upshift.iterrows():\n",
    "    office_name = office_row['Customer']\n",
    "    office_latitude = office_row['Latitude']\n",
    "    office_longitude = office_row['Longitude']\n",
    "    radius = 60  # Radius in kilometers\n",
    "\n",
    "    df[office_name] = df.apply(lambda row: 1 if calculate_distance(\n",
    "        row['Latitude'], row['Longitude'], office_latitude, office_longitude\n",
    "    ) <= radius else 0, axis=1)"
   ]
  },
  {
   "cell_type": "code",
   "execution_count": 7,
   "id": "5807b27f",
   "metadata": {},
   "outputs": [],
   "source": [
    "office_dropdown = widgets.Dropdown(\n",
    "    options=list(upshift['Customer']),\n",
    "    description='Office Location:'\n",
    ")"
   ]
  },
  {
   "cell_type": "code",
   "execution_count": 8,
   "id": "81be494b",
   "metadata": {},
   "outputs": [],
   "source": [
    "map_object = folium.Map()"
   ]
  },
  {
   "cell_type": "code",
   "execution_count": 9,
   "id": "a533bcf0",
   "metadata": {},
   "outputs": [],
   "source": [
    "def update_map(selected_office):\n",
    "    selected_office = office_dropdown.value\n",
    "    if selected_office:\n",
    "        filtered_df = df[df[selected_office] == 1]\n",
    "        lat_mean = filtered_df['Latitude'].mean()\n",
    "        lon_mean = filtered_df['Longitude'].mean()\n",
    "\n",
    "        new_map = folium.Map(location=[lat_mean, lon_mean], zoom_start=10)\n",
    "\n",
    "        for _, row in filtered_df.iterrows():\n",
    "            if selected_office in row['Customer']:\n",
    "                folium.Circle(\n",
    "                    location=[row['Latitude'], row['Longitude']],\n",
    "                    radius=60000,\n",
    "                    color='green',\n",
    "                ).add_to(new_map)\n",
    "                folium.Marker(\n",
    "                    location=[row['Latitude'], row['Longitude']],\n",
    "                    tooltip= f\"{row['Customer']}: {row['full_addy']}\",\n",
    "                    icon = folium.Icon(color = \"green\")\n",
    "                    \n",
    "                ).add_to(new_map)\n",
    "                \n",
    "            elif 'sodexo' in row['Partner'].lower() and row['Current'] == 0:\n",
    "                folium.Marker(\n",
    "                    location=[row['Latitude'], row['Longitude']],\n",
    "                    tooltip=f\"{row['Customer']}. Address: {row['full_addy']}. Partner: {row['Partner']}\",\n",
    "                    icon = folium.Icon(color = 'red')\n",
    "                ).add_to(new_map)\n",
    "                \n",
    "            elif 'compass' in row['Partner'].lower() and row['Current'] == 0:\n",
    "                folium.Marker(\n",
    "                    location=[row['Latitude'], row['Longitude']],\n",
    "                    tooltip=f\"{row['Customer']}. Address: {row['full_addy']}. Partner: {row['Partner']}\",\n",
    "                    icon = folium.Icon(color = 'blue')\n",
    "                ).add_to(new_map)\n",
    "                \n",
    "            elif 'aramark' in row['Partner'].lower() and row['Current'] == 0:\n",
    "                folium.Marker(\n",
    "                    location=[row['Latitude'], row['Longitude']],\n",
    "                    tooltip=f\"{row['Customer']}. Address: {row['full_addy']}. Partner: {row['Partner']}\",\n",
    "                    icon = folium.Icon(color = 'orange')\n",
    "                ).add_to(new_map)\n",
    "                \n",
    "            elif row['Current'] == 1:\n",
    "                folium.Marker(\n",
    "                    location=[row['Latitude'], row['Longitude']],\n",
    "                    tooltip=f\"{row['Customer']}. Address: {row['full_addy']}. Partner: {row['Partner']}\",\n",
    "                    icon = folium.Icon(color = 'lightgray')\n",
    "                ).add_to(new_map)\n",
    "\n",
    "        clear_output()\n",
    "\n",
    "        display(new_map)"
   ]
  },
  {
   "cell_type": "code",
   "execution_count": 10,
   "id": "44599e19",
   "metadata": {},
   "outputs": [],
   "source": [
    "interactive_map = widgets.interactive(update_map, selected_office=office_dropdown)"
   ]
  },
  {
   "cell_type": "code",
   "execution_count": 11,
   "id": "0110a426",
   "metadata": {
    "scrolled": false
   },
   "outputs": [
    {
     "data": {
      "application/vnd.jupyter.widget-view+json": {
       "model_id": "a15ae8e25e174566ad79c9491b2d79bd",
       "version_major": 2,
       "version_minor": 0
      },
      "text/plain": [
       "interactive(children=(Dropdown(description='Office Location:', options=('UpShift Atlanta', 'UpShift Charlotte'…"
      ]
     },
     "execution_count": 11,
     "metadata": {},
     "output_type": "execute_result"
    }
   ],
   "source": [
    "interactive_map"
   ]
  },
  {
   "cell_type": "code",
   "execution_count": null,
   "id": "3beaf066",
   "metadata": {},
   "outputs": [],
   "source": []
  }
 ],
 "metadata": {
  "kernelspec": {
   "display_name": "Python 3 (ipykernel)",
   "language": "python",
   "name": "python3"
  },
  "language_info": {
   "codemirror_mode": {
    "name": "ipython",
    "version": 3
   },
   "file_extension": ".py",
   "mimetype": "text/x-python",
   "name": "python",
   "nbconvert_exporter": "python",
   "pygments_lexer": "ipython3",
   "version": "3.9.16"
  }
 },
 "nbformat": 4,
 "nbformat_minor": 5
}
